{
  "cells": [
    {
      "cell_type": "markdown",
      "metadata": {
        "id": "dA3qEn5YlzJc"
      },
      "source": [
        "# Analyze a Youtube video by asking the LLM\n",
        "By [Lior Gazit](https://www.linkedin.com/in/liorgazit/)  \n",
        "\n",
        "<a target=\"_blank\" href=\"https://colab.research.google.com/github/LiorGazit/LLM_search_inside_youtube_videos/blob/main/Analyze_a_Youtube_video_by_asking_the_LLM.ipynb\">\n",
        "  <img src=\"https://colab.research.google.com/assets/colab-badge.svg\" alt=\"Open In Colab\"/>\n",
        "</a>\n",
        "\n",
        "**Description of the notebook:**  \n",
        "Pick a Youtube video that you'd like to understand what value it brings you without having to spend the time to watch all of it.  \n",
        "For instance: an hour long lecture about a topic you are looking to learn about, and your goal is know whether it touches on all key points before dedicating time to watch it.  \n",
        "This is with the intuition that if it were a PDF instead of a video, you'd be able to search through it.  \n",
        "\n",
        "**Requirements:**  \n",
        "* Open this notebook in a free [Google Colab instance](https://colab.research.google.com/).  \n",
        "* This code picks OpenAI's API as a choice of LLM, so a paid **API key** is necessary.   "
      ]
    },
    {
      "cell_type": "markdown",
      "metadata": {
        "id": "-VQE9nGwDaiG"
      },
      "source": [
        "Install:"
      ]
    },
    {
      "cell_type": "code",
      "execution_count": 1,
      "metadata": {
        "id": "qtqSnCgwDDCg"
      },
      "outputs": [
        {
          "name": "stderr",
          "output_type": "stream",
          "text": [
            "WARNING: embedchain 0.1.128 does not provide the extra 'youtube'\n",
            "WARNING: Error parsing requirements for numpy: [Errno 2] No such file or directory: 'c:\\\\users\\\\gazit\\\\miniconda3\\\\envs\\\\py39\\\\lib\\\\site-packages\\\\numpy-1.25.2.dist-info\\\\METADATA'\n",
            "    WARNING: No metadata found in c:\\users\\gazit\\miniconda3\\envs\\py39\\lib\\site-packages\n",
            "ERROR: Cannot uninstall numpy 1.25.2, RECORD file not found. You might be able to recover from this via: 'pip install --force-reinstall --no-deps numpy==1.25.2'.\n",
            "WARNING: Error parsing requirements for numpy: [Errno 2] No such file or directory: 'c:\\\\users\\\\gazit\\\\miniconda3\\\\envs\\\\py39\\\\lib\\\\site-packages\\\\numpy-1.25.2.dist-info\\\\METADATA'\n",
            "WARNING: Error parsing requirements for numpy: [Errno 2] No such file or directory: 'c:\\\\users\\\\gazit\\\\miniconda3\\\\envs\\\\py39\\\\lib\\\\site-packages\\\\numpy-1.25.2.dist-info\\\\METADATA'\n",
            "WARNING: Error parsing requirements for numpy: [Errno 2] No such file or directory: 'c:\\\\users\\\\gazit\\\\miniconda3\\\\envs\\\\py39\\\\lib\\\\site-packages\\\\numpy-1.25.2.dist-info\\\\METADATA'\n"
          ]
        }
      ],
      "source": [
        "!pip -q install --upgrade \"embedchain[youtube]\"\n",
        "!pip -q install pytube\n",
        "!pip -q install openai\n",
        "!pip -q install youtube-transcript-api\n"
      ]
    },
    {
      "cell_type": "markdown",
      "metadata": {
        "id": "DrrlU4QqDmxl"
      },
      "source": [
        "Imports:"
      ]
    },
    {
      "cell_type": "code",
      "execution_count": 2,
      "metadata": {
        "id": "ohPMkz4zDqxz"
      },
      "outputs": [
        {
          "name": "stderr",
          "output_type": "stream",
          "text": [
            "\n",
            "A module that was compiled using NumPy 1.x cannot be run in\n",
            "NumPy 2.0.2 as it may crash. To support both 1.x and 2.x\n",
            "versions of NumPy, modules must be compiled with NumPy 2.0.\n",
            "Some module may need to rebuild instead e.g. with 'pybind11>=2.12'.\n",
            "\n",
            "If you are a user of the module, the easiest solution will be to\n",
            "downgrade to 'numpy<2' or try to upgrade the affected module.\n",
            "We expect that some modules will need time to support NumPy 2.\n",
            "\n",
            "Traceback (most recent call last):  File \"c:\\Users\\gazit\\miniconda3\\envs\\py39\\lib\\runpy.py\", line 197, in _run_module_as_main\n",
            "    return _run_code(code, main_globals, None,\n",
            "  File \"c:\\Users\\gazit\\miniconda3\\envs\\py39\\lib\\runpy.py\", line 87, in _run_code\n",
            "    exec(code, run_globals)\n",
            "  File \"c:\\Users\\gazit\\miniconda3\\envs\\py39\\lib\\site-packages\\ipykernel_launcher.py\", line 17, in <module>\n",
            "    app.launch_new_instance()\n",
            "  File \"c:\\Users\\gazit\\miniconda3\\envs\\py39\\lib\\site-packages\\traitlets\\config\\application.py\", line 1043, in launch_instance\n",
            "    app.start()\n",
            "  File \"c:\\Users\\gazit\\miniconda3\\envs\\py39\\lib\\site-packages\\ipykernel\\kernelapp.py\", line 736, in start\n",
            "    self.io_loop.start()\n",
            "  File \"c:\\Users\\gazit\\miniconda3\\envs\\py39\\lib\\site-packages\\tornado\\platform\\asyncio.py\", line 195, in start\n",
            "    self.asyncio_loop.run_forever()\n",
            "  File \"c:\\Users\\gazit\\miniconda3\\envs\\py39\\lib\\asyncio\\base_events.py\", line 601, in run_forever\n",
            "    self._run_once()\n",
            "  File \"c:\\Users\\gazit\\miniconda3\\envs\\py39\\lib\\asyncio\\base_events.py\", line 1905, in _run_once\n",
            "    handle._run()\n",
            "  File \"c:\\Users\\gazit\\miniconda3\\envs\\py39\\lib\\asyncio\\events.py\", line 80, in _run\n",
            "    self._context.run(self._callback, *self._args)\n",
            "  File \"c:\\Users\\gazit\\miniconda3\\envs\\py39\\lib\\site-packages\\ipykernel\\kernelbase.py\", line 516, in dispatch_queue\n",
            "    await self.process_one()\n",
            "  File \"c:\\Users\\gazit\\miniconda3\\envs\\py39\\lib\\site-packages\\ipykernel\\kernelbase.py\", line 505, in process_one\n",
            "    await dispatch(*args)\n",
            "  File \"c:\\Users\\gazit\\miniconda3\\envs\\py39\\lib\\site-packages\\ipykernel\\kernelbase.py\", line 412, in dispatch_shell\n",
            "    await result\n",
            "  File \"c:\\Users\\gazit\\miniconda3\\envs\\py39\\lib\\site-packages\\ipykernel\\kernelbase.py\", line 740, in execute_request\n",
            "    reply_content = await reply_content\n",
            "  File \"c:\\Users\\gazit\\miniconda3\\envs\\py39\\lib\\site-packages\\ipykernel\\ipkernel.py\", line 422, in do_execute\n",
            "    res = shell.run_cell(\n",
            "  File \"c:\\Users\\gazit\\miniconda3\\envs\\py39\\lib\\site-packages\\ipykernel\\zmqshell.py\", line 546, in run_cell\n",
            "    return super().run_cell(*args, **kwargs)\n",
            "  File \"c:\\Users\\gazit\\miniconda3\\envs\\py39\\lib\\site-packages\\IPython\\core\\interactiveshell.py\", line 3024, in run_cell\n",
            "    result = self._run_cell(\n",
            "  File \"c:\\Users\\gazit\\miniconda3\\envs\\py39\\lib\\site-packages\\IPython\\core\\interactiveshell.py\", line 3079, in _run_cell\n",
            "    result = runner(coro)\n",
            "  File \"c:\\Users\\gazit\\miniconda3\\envs\\py39\\lib\\site-packages\\IPython\\core\\async_helpers.py\", line 129, in _pseudo_sync_runner\n",
            "    coro.send(None)\n",
            "  File \"c:\\Users\\gazit\\miniconda3\\envs\\py39\\lib\\site-packages\\IPython\\core\\interactiveshell.py\", line 3284, in run_cell_async\n",
            "    has_raised = await self.run_ast_nodes(code_ast.body, cell_name,\n",
            "  File \"c:\\Users\\gazit\\miniconda3\\envs\\py39\\lib\\site-packages\\IPython\\core\\interactiveshell.py\", line 3466, in run_ast_nodes\n",
            "    if await self.run_code(code, result, async_=asy):\n",
            "  File \"c:\\Users\\gazit\\miniconda3\\envs\\py39\\lib\\site-packages\\IPython\\core\\interactiveshell.py\", line 3526, in run_code\n",
            "    exec(code_obj, self.user_global_ns, self.user_ns)\n",
            "  File \"C:\\Users\\gazit\\AppData\\Local\\Temp\\ipykernel_2360\\442679570.py\", line 3, in <module>\n",
            "    import pandas as pd\n",
            "  File \"c:\\Users\\gazit\\miniconda3\\envs\\py39\\lib\\site-packages\\pandas\\__init__.py\", line 50, in <module>\n",
            "    from pandas.compat import (\n",
            "  File \"c:\\Users\\gazit\\miniconda3\\envs\\py39\\lib\\site-packages\\pandas\\compat\\__init__.py\", line 27, in <module>\n",
            "    from pandas.compat.pyarrow import (\n",
            "  File \"c:\\Users\\gazit\\miniconda3\\envs\\py39\\lib\\site-packages\\pandas\\compat\\pyarrow.py\", line 8, in <module>\n",
            "    import pyarrow as pa\n",
            "  File \"c:\\Users\\gazit\\miniconda3\\envs\\py39\\lib\\site-packages\\pyarrow\\__init__.py\", line 65, in <module>\n",
            "    import pyarrow.lib as _lib\n"
          ]
        },
        {
          "ename": "AttributeError",
          "evalue": "_ARRAY_API not found",
          "output_type": "error",
          "traceback": [
            "\u001b[1;31m---------------------------------------------------------------------------\u001b[0m",
            "\u001b[1;31mAttributeError\u001b[0m                            Traceback (most recent call last)",
            "\u001b[1;31mAttributeError\u001b[0m: _ARRAY_API not found"
          ]
        },
        {
          "ename": "ValueError",
          "evalue": "numpy.dtype size changed, may indicate binary incompatibility. Expected 96 from C header, got 88 from PyObject",
          "output_type": "error",
          "traceback": [
            "\u001b[1;31m---------------------------------------------------------------------------\u001b[0m",
            "\u001b[1;31mValueError\u001b[0m                                Traceback (most recent call last)",
            "Cell \u001b[1;32mIn[2], line 3\u001b[0m\n\u001b[0;32m      1\u001b[0m \u001b[38;5;28;01mimport\u001b[39;00m \u001b[38;5;21;01mos\u001b[39;00m\n\u001b[0;32m      2\u001b[0m \u001b[38;5;28;01mimport\u001b[39;00m \u001b[38;5;21;01mtextwrap\u001b[39;00m\n\u001b[1;32m----> 3\u001b[0m \u001b[38;5;28;01mimport\u001b[39;00m \u001b[38;5;21;01mpandas\u001b[39;00m \u001b[38;5;28;01mas\u001b[39;00m \u001b[38;5;21;01mpd\u001b[39;00m\n\u001b[0;32m      4\u001b[0m \u001b[38;5;28;01mimport\u001b[39;00m \u001b[38;5;21;01mjson\u001b[39;00m\n\u001b[0;32m      6\u001b[0m \u001b[38;5;28;01mfrom\u001b[39;00m \u001b[38;5;21;01membedchain\u001b[39;00m \u001b[38;5;28;01mimport\u001b[39;00m App\n",
            "File \u001b[1;32mc:\\Users\\gazit\\miniconda3\\envs\\py39\\lib\\site-packages\\pandas\\__init__.py:73\u001b[0m\n\u001b[0;32m     70\u001b[0m \u001b[38;5;66;03m# let init-time option registration happen\u001b[39;00m\n\u001b[0;32m     71\u001b[0m \u001b[38;5;28;01mimport\u001b[39;00m \u001b[38;5;21;01mpandas\u001b[39;00m\u001b[38;5;21;01m.\u001b[39;00m\u001b[38;5;21;01mcore\u001b[39;00m\u001b[38;5;21;01m.\u001b[39;00m\u001b[38;5;21;01mconfig_init\u001b[39;00m  \u001b[38;5;66;03m# pyright: ignore[reportUnusedImport] # noqa: F401\u001b[39;00m\n\u001b[1;32m---> 73\u001b[0m \u001b[38;5;28;01mfrom\u001b[39;00m \u001b[38;5;21;01mpandas\u001b[39;00m\u001b[38;5;21;01m.\u001b[39;00m\u001b[38;5;21;01mcore\u001b[39;00m\u001b[38;5;21;01m.\u001b[39;00m\u001b[38;5;21;01mapi\u001b[39;00m \u001b[38;5;28;01mimport\u001b[39;00m (\n\u001b[0;32m     74\u001b[0m     \u001b[38;5;66;03m# dtype\u001b[39;00m\n\u001b[0;32m     75\u001b[0m     ArrowDtype,\n\u001b[0;32m     76\u001b[0m     Int8Dtype,\n\u001b[0;32m     77\u001b[0m     Int16Dtype,\n\u001b[0;32m     78\u001b[0m     Int32Dtype,\n\u001b[0;32m     79\u001b[0m     Int64Dtype,\n\u001b[0;32m     80\u001b[0m     UInt8Dtype,\n\u001b[0;32m     81\u001b[0m     UInt16Dtype,\n\u001b[0;32m     82\u001b[0m     UInt32Dtype,\n\u001b[0;32m     83\u001b[0m     UInt64Dtype,\n\u001b[0;32m     84\u001b[0m     Float32Dtype,\n\u001b[0;32m     85\u001b[0m     Float64Dtype,\n\u001b[0;32m     86\u001b[0m     CategoricalDtype,\n\u001b[0;32m     87\u001b[0m     PeriodDtype,\n\u001b[0;32m     88\u001b[0m     IntervalDtype,\n\u001b[0;32m     89\u001b[0m     DatetimeTZDtype,\n\u001b[0;32m     90\u001b[0m     StringDtype,\n\u001b[0;32m     91\u001b[0m     BooleanDtype,\n\u001b[0;32m     92\u001b[0m     \u001b[38;5;66;03m# missing\u001b[39;00m\n\u001b[0;32m     93\u001b[0m     NA,\n\u001b[0;32m     94\u001b[0m     isna,\n\u001b[0;32m     95\u001b[0m     isnull,\n\u001b[0;32m     96\u001b[0m     notna,\n\u001b[0;32m     97\u001b[0m     notnull,\n\u001b[0;32m     98\u001b[0m     \u001b[38;5;66;03m# indexes\u001b[39;00m\n\u001b[0;32m     99\u001b[0m     Index,\n\u001b[0;32m    100\u001b[0m     CategoricalIndex,\n\u001b[0;32m    101\u001b[0m     RangeIndex,\n\u001b[0;32m    102\u001b[0m     MultiIndex,\n\u001b[0;32m    103\u001b[0m     IntervalIndex,\n\u001b[0;32m    104\u001b[0m     TimedeltaIndex,\n\u001b[0;32m    105\u001b[0m     DatetimeIndex,\n\u001b[0;32m    106\u001b[0m     PeriodIndex,\n\u001b[0;32m    107\u001b[0m     IndexSlice,\n\u001b[0;32m    108\u001b[0m     \u001b[38;5;66;03m# tseries\u001b[39;00m\n\u001b[0;32m    109\u001b[0m     NaT,\n\u001b[0;32m    110\u001b[0m     Period,\n\u001b[0;32m    111\u001b[0m     period_range,\n\u001b[0;32m    112\u001b[0m     Timedelta,\n\u001b[0;32m    113\u001b[0m     timedelta_range,\n\u001b[0;32m    114\u001b[0m     Timestamp,\n\u001b[0;32m    115\u001b[0m     date_range,\n\u001b[0;32m    116\u001b[0m     bdate_range,\n\u001b[0;32m    117\u001b[0m     Interval,\n\u001b[0;32m    118\u001b[0m     interval_range,\n\u001b[0;32m    119\u001b[0m     DateOffset,\n\u001b[0;32m    120\u001b[0m     \u001b[38;5;66;03m# conversion\u001b[39;00m\n\u001b[0;32m    121\u001b[0m     to_numeric,\n\u001b[0;32m    122\u001b[0m     to_datetime,\n\u001b[0;32m    123\u001b[0m     to_timedelta,\n\u001b[0;32m    124\u001b[0m     \u001b[38;5;66;03m# misc\u001b[39;00m\n\u001b[0;32m    125\u001b[0m     Flags,\n\u001b[0;32m    126\u001b[0m     Grouper,\n\u001b[0;32m    127\u001b[0m     factorize,\n\u001b[0;32m    128\u001b[0m     unique,\n\u001b[0;32m    129\u001b[0m     value_counts,\n\u001b[0;32m    130\u001b[0m     NamedAgg,\n\u001b[0;32m    131\u001b[0m     array,\n\u001b[0;32m    132\u001b[0m     Categorical,\n\u001b[0;32m    133\u001b[0m     set_eng_float_format,\n\u001b[0;32m    134\u001b[0m     Series,\n\u001b[0;32m    135\u001b[0m     DataFrame,\n\u001b[0;32m    136\u001b[0m )\n\u001b[0;32m    138\u001b[0m \u001b[38;5;28;01mfrom\u001b[39;00m \u001b[38;5;21;01mpandas\u001b[39;00m\u001b[38;5;21;01m.\u001b[39;00m\u001b[38;5;21;01mcore\u001b[39;00m\u001b[38;5;21;01m.\u001b[39;00m\u001b[38;5;21;01mdtypes\u001b[39;00m\u001b[38;5;21;01m.\u001b[39;00m\u001b[38;5;21;01mdtypes\u001b[39;00m \u001b[38;5;28;01mimport\u001b[39;00m SparseDtype\n\u001b[0;32m    140\u001b[0m \u001b[38;5;28;01mfrom\u001b[39;00m \u001b[38;5;21;01mpandas\u001b[39;00m\u001b[38;5;21;01m.\u001b[39;00m\u001b[38;5;21;01mtseries\u001b[39;00m\u001b[38;5;21;01m.\u001b[39;00m\u001b[38;5;21;01mapi\u001b[39;00m \u001b[38;5;28;01mimport\u001b[39;00m infer_freq\n",
            "File \u001b[1;32mc:\\Users\\gazit\\miniconda3\\envs\\py39\\lib\\site-packages\\pandas\\core\\api.py:1\u001b[0m\n\u001b[1;32m----> 1\u001b[0m \u001b[38;5;28;01mfrom\u001b[39;00m \u001b[38;5;21;01mpandas\u001b[39;00m\u001b[38;5;21;01m.\u001b[39;00m\u001b[38;5;21;01m_libs\u001b[39;00m \u001b[38;5;28;01mimport\u001b[39;00m (\n\u001b[0;32m      2\u001b[0m     NaT,\n\u001b[0;32m      3\u001b[0m     Period,\n\u001b[0;32m      4\u001b[0m     Timedelta,\n\u001b[0;32m      5\u001b[0m     Timestamp,\n\u001b[0;32m      6\u001b[0m )\n\u001b[0;32m      7\u001b[0m \u001b[38;5;28;01mfrom\u001b[39;00m \u001b[38;5;21;01mpandas\u001b[39;00m\u001b[38;5;21;01m.\u001b[39;00m\u001b[38;5;21;01m_libs\u001b[39;00m\u001b[38;5;21;01m.\u001b[39;00m\u001b[38;5;21;01mmissing\u001b[39;00m \u001b[38;5;28;01mimport\u001b[39;00m NA\n\u001b[0;32m      9\u001b[0m \u001b[38;5;28;01mfrom\u001b[39;00m \u001b[38;5;21;01mpandas\u001b[39;00m\u001b[38;5;21;01m.\u001b[39;00m\u001b[38;5;21;01mcore\u001b[39;00m\u001b[38;5;21;01m.\u001b[39;00m\u001b[38;5;21;01mdtypes\u001b[39;00m\u001b[38;5;21;01m.\u001b[39;00m\u001b[38;5;21;01mdtypes\u001b[39;00m \u001b[38;5;28;01mimport\u001b[39;00m (\n\u001b[0;32m     10\u001b[0m     ArrowDtype,\n\u001b[0;32m     11\u001b[0m     CategoricalDtype,\n\u001b[1;32m   (...)\u001b[0m\n\u001b[0;32m     14\u001b[0m     PeriodDtype,\n\u001b[0;32m     15\u001b[0m )\n",
            "File \u001b[1;32mc:\\Users\\gazit\\miniconda3\\envs\\py39\\lib\\site-packages\\pandas\\_libs\\__init__.py:18\u001b[0m\n\u001b[0;32m     16\u001b[0m \u001b[38;5;28;01mimport\u001b[39;00m \u001b[38;5;21;01mpandas\u001b[39;00m\u001b[38;5;21;01m.\u001b[39;00m\u001b[38;5;21;01m_libs\u001b[39;00m\u001b[38;5;21;01m.\u001b[39;00m\u001b[38;5;21;01mpandas_parser\u001b[39;00m  \u001b[38;5;66;03m# noqa: E501 # isort: skip # type: ignore[reportUnusedImport]\u001b[39;00m\n\u001b[0;32m     17\u001b[0m \u001b[38;5;28;01mimport\u001b[39;00m \u001b[38;5;21;01mpandas\u001b[39;00m\u001b[38;5;21;01m.\u001b[39;00m\u001b[38;5;21;01m_libs\u001b[39;00m\u001b[38;5;21;01m.\u001b[39;00m\u001b[38;5;21;01mpandas_datetime\u001b[39;00m  \u001b[38;5;66;03m# noqa: F401,E501 # isort: skip # type: ignore[reportUnusedImport]\u001b[39;00m\n\u001b[1;32m---> 18\u001b[0m \u001b[38;5;28;01mfrom\u001b[39;00m \u001b[38;5;21;01mpandas\u001b[39;00m\u001b[38;5;21;01m.\u001b[39;00m\u001b[38;5;21;01m_libs\u001b[39;00m\u001b[38;5;21;01m.\u001b[39;00m\u001b[38;5;21;01minterval\u001b[39;00m \u001b[38;5;28;01mimport\u001b[39;00m Interval\n\u001b[0;32m     19\u001b[0m \u001b[38;5;28;01mfrom\u001b[39;00m \u001b[38;5;21;01mpandas\u001b[39;00m\u001b[38;5;21;01m.\u001b[39;00m\u001b[38;5;21;01m_libs\u001b[39;00m\u001b[38;5;21;01m.\u001b[39;00m\u001b[38;5;21;01mtslibs\u001b[39;00m \u001b[38;5;28;01mimport\u001b[39;00m (\n\u001b[0;32m     20\u001b[0m     NaT,\n\u001b[0;32m     21\u001b[0m     NaTType,\n\u001b[1;32m   (...)\u001b[0m\n\u001b[0;32m     26\u001b[0m     iNaT,\n\u001b[0;32m     27\u001b[0m )\n",
            "File \u001b[1;32minterval.pyx:1\u001b[0m, in \u001b[0;36minit pandas._libs.interval\u001b[1;34m()\u001b[0m\n",
            "\u001b[1;31mValueError\u001b[0m: numpy.dtype size changed, may indicate binary incompatibility. Expected 96 from C header, got 88 from PyObject"
          ]
        }
      ],
      "source": [
        "import os\n",
        "import textwrap\n",
        "import pandas as pd\n",
        "import json\n",
        "\n",
        "from embedchain import App"
      ]
    },
    {
      "cell_type": "markdown",
      "metadata": {
        "id": "JAO_SzlyDr5x"
      },
      "source": [
        "#### Insert API Key"
      ]
    },
    {
      "cell_type": "code",
      "execution_count": null,
      "metadata": {
        "id": "nyRo07nqD08l"
      },
      "outputs": [],
      "source": [
        "my_api_key = \"...\""
      ]
    },
    {
      "cell_type": "markdown",
      "metadata": {
        "id": "I7aBp5OZsmy7"
      },
      "source": [
        "#### Save API Key to Environement Variable"
      ]
    },
    {
      "cell_type": "code",
      "execution_count": null,
      "metadata": {
        "id": "isN0JA6ksm__"
      },
      "outputs": [],
      "source": [
        "os.environ[\"OPENAI_API_KEY\"] = my_api_key"
      ]
    },
    {
      "cell_type": "markdown",
      "metadata": {
        "id": "c-lR8B_Us4FT"
      },
      "source": [
        "#### Pick the Youtube Video and Insert its URL"
      ]
    },
    {
      "cell_type": "code",
      "execution_count": null,
      "metadata": {
        "id": "Y1LSH25XnbVA"
      },
      "outputs": [],
      "source": [
        "video_url = \"https://www.youtube.com/watch?v=ySEx_Bqxvvo&ab_channel=AlexanderAmini\""
      ]
    },
    {
      "cell_type": "markdown",
      "metadata": {},
      "source": [
        "Setting up configurations for choice of embedding LLM and prompting LLM:"
      ]
    },
    {
      "cell_type": "code",
      "execution_count": null,
      "metadata": {},
      "outputs": [],
      "source": [
        "models_config = {\n",
        "    \"llm\": {\n",
        "        \"provider\": \"openai\",\n",
        "        \"config\": {\n",
        "            \"model\": \"gpt-3.5-turbo\",\n",
        "            \"temperature\": 0.5,\n",
        "            \"max_tokens\": 1000,\n",
        "            \"top_p\": 1,\n",
        "            \"stream\": False\n",
        "        }\n",
        "    },\n",
        "    \"embedder\": {\n",
        "        \"provider\": \"openai\",\n",
        "        \"config\": {\n",
        "            \"model\": \"text-embedding-ada-002\"\n",
        "        }\n",
        "    }\n",
        "}"
      ]
    },
    {
      "cell_type": "markdown",
      "metadata": {
        "id": "ceba85uTtghq"
      },
      "source": [
        "### Set Up the Retrieval Mechanism:"
      ]
    },
    {
      "cell_type": "code",
      "execution_count": null,
      "metadata": {
        "colab": {
          "base_uri": "https://localhost:8080/",
          "height": 71
        },
        "id": "w6CLvivFnbXt",
        "outputId": "705141fc-3340-446f-ab29-202bff3b9b4c"
      },
      "outputs": [],
      "source": [
        "lecture_RAG = App().from_config(config=models_config)\n",
        "lecture_RAG.reset()\n",
        "lecture_RAG.add(data_type=\"youtube_video\", source=video_url)\n",
        "\n"
      ]
    },
    {
      "cell_type": "markdown",
      "metadata": {
        "id": "IPPgyfmM0vNJ"
      },
      "source": [
        "### Some Questions About the Content of the Video"
      ]
    },
    {
      "cell_type": "code",
      "execution_count": null,
      "metadata": {
        "colab": {
          "base_uri": "https://localhost:8080/"
        },
        "id": "3S4sLH1NnbaU",
        "outputId": "6a090559-4c4c-4bf0-c57c-b8a69930eefc"
      },
      "outputs": [],
      "source": [
        "print(lecture_RAG.query(\"Do they mention transformers? In what way? Tell me in 2-3 sentences.\"))"
      ]
    },
    {
      "cell_type": "code",
      "execution_count": null,
      "metadata": {
        "colab": {
          "base_uri": "https://localhost:8080/"
        },
        "id": "TYMW2pItnbcj",
        "outputId": "871cbdd9-dd4b-41f9-afdf-3a7be9305db6"
      },
      "outputs": [],
      "source": [
        "print(lecture_RAG.query(\"Do they mention attention?\"))"
      ]
    },
    {
      "cell_type": "code",
      "execution_count": null,
      "metadata": {
        "colab": {
          "base_uri": "https://localhost:8080/"
        },
        "id": "VlXi96igrCPQ",
        "outputId": "37792171-9307-4fe3-b200-d68db466e846"
      },
      "outputs": [],
      "source": [
        "backprop_answer_english = lecture_RAG.query(\"Do they mention back propogation? Please provide 2-3 sentences that tell about it.\")\n",
        "print(backprop_answer_english)"
      ]
    },
    {
      "cell_type": "markdown",
      "metadata": {
        "id": "fp3fEJZY068L"
      },
      "source": [
        "#### Translate the Last Response to Hindi"
      ]
    },
    {
      "cell_type": "code",
      "execution_count": null,
      "metadata": {
        "colab": {
          "base_uri": "https://localhost:8080/"
        },
        "id": "HbIIaWdhvLrY",
        "outputId": "d2ad6d67-1035-44b5-ccc1-47dff92c9773"
      },
      "outputs": [],
      "source": [
        "print(lecture_RAG.query(f\"Please translate this answer from English to Hindi: <{backprop_answer_english}>. Make sure to translate properly with the appropriate technical terms.\"))"
      ]
    },
    {
      "cell_type": "markdown",
      "metadata": {
        "id": "Op6rTcF90_Kr"
      },
      "source": [
        "#### Translate the Last Response to Tamil"
      ]
    },
    {
      "cell_type": "code",
      "execution_count": null,
      "metadata": {
        "colab": {
          "base_uri": "https://localhost:8080/"
        },
        "id": "ZT5pWfLxysfa",
        "outputId": "b10c7d27-1f6a-4ad8-f5c0-9a8a40ffd7b7"
      },
      "outputs": [],
      "source": [
        "print(lecture_RAG.query(f\"Please translate this answer from English to Tamil: <{backprop_answer_english}>. Make sure to translate properly with the appropriate technical terms.\"))"
      ]
    },
    {
      "cell_type": "markdown",
      "metadata": {
        "id": "RwT9UolkuIoh"
      },
      "source": [
        "### The Video's Text that the LLM Can Use to Answer:"
      ]
    },
    {
      "cell_type": "code",
      "execution_count": null,
      "metadata": {
        "colab": {
          "base_uri": "https://localhost:8080/"
        },
        "id": "AtMeRgodr56r",
        "outputId": "b6a98398-fb88-4b00-817c-04d1874c01a4"
      },
      "outputs": [],
      "source": [
        "lecture_RAG.db.get()['documents']"
      ]
    },
    {
      "cell_type": "code",
      "execution_count": null,
      "metadata": {
        "id": "jos5GDYFr77r"
      },
      "outputs": [],
      "source": []
    }
  ],
  "metadata": {
    "colab": {
      "provenance": []
    },
    "kernelspec": {
      "display_name": "py39",
      "language": "python",
      "name": "python3"
    },
    "language_info": {
      "codemirror_mode": {
        "name": "ipython",
        "version": 3
      },
      "file_extension": ".py",
      "mimetype": "text/x-python",
      "name": "python",
      "nbconvert_exporter": "python",
      "pygments_lexer": "ipython3",
      "version": "3.9.18"
    }
  },
  "nbformat": 4,
  "nbformat_minor": 0
}
