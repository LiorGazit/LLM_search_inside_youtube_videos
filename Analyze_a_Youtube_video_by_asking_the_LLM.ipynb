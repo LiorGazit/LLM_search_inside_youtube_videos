{
  "cells": [
    {
      "cell_type": "markdown",
      "metadata": {
        "id": "dA3qEn5YlzJc"
      },
      "source": [
        "# Analyze a Youtube video by asking the LLM\n",
        "By [Lior Gazit](https://www.linkedin.com/in/liorgazit/)  \n",
        "\n",
        "<a target=\"_blank\" href=\"https://colab.research.google.com/github/LiorGazit/LLM_search_inside_youtube_videos/blob/main/Analyze_a_Youtube_video_by_asking_the_LLM.ipynb\">\n",
        "  <img src=\"https://colab.research.google.com/assets/colab-badge.svg\" alt=\"Open In Colab\"/>\n",
        "</a>\n",
        "\n",
        "**Description of the notebook:**  \n",
        "Pick a Youtube video that you'd like to understand what value it brings you without having to spend the time to watch all of it.  \n",
        "For instance: an hour long lecture about a topic you are looking to learn about, and your goal is know whether it touches on all key points before dedicating time to watch it.  \n",
        "This is with the intuition that if it were a PDF instead of a video, you'd be able to search through it.  \n",
        "\n",
        "**Requirements:**  \n",
        "* Open this notebook in a free [Google Colab instance](https://colab.research.google.com/).  \n",
        "* This code picks OpenAI's API as a choice of LLM, so a paid **API key** is necessary.   "
      ]
    },
    {
      "cell_type": "markdown",
      "metadata": {
        "id": "-VQE9nGwDaiG"
      },
      "source": [
        "Install:"
      ]
    },
    {
      "cell_type": "code",
      "execution_count": null,
      "metadata": {
        "id": "qtqSnCgwDDCg"
      },
      "outputs": [],
      "source": [
        "!pip -q install --upgrade \"embedchain[youtube]\"\n",
        "!pip -q install pytube\n",
        "!pip -q install openai\n",
        "!pip -q install youtube-transcript-api\n"
      ]
    },
    {
      "cell_type": "markdown",
      "metadata": {
        "id": "DrrlU4QqDmxl"
      },
      "source": [
        "Imports:"
      ]
    },
    {
      "cell_type": "code",
      "execution_count": null,
      "metadata": {
        "id": "ohPMkz4zDqxz"
      },
      "outputs": [],
      "source": [
        "import os\n",
        "import textwrap\n",
        "import pandas as pd\n",
        "import json\n",
        "\n",
        "from embedchain import App"
      ]
    },
    {
      "cell_type": "markdown",
      "metadata": {
        "id": "JAO_SzlyDr5x"
      },
      "source": [
        "#### Insert API Key"
      ]
    },
    {
      "cell_type": "code",
      "execution_count": null,
      "metadata": {
        "id": "nyRo07nqD08l"
      },
      "outputs": [],
      "source": [
        "my_api_key = \"...\""
      ]
    },
    {
      "cell_type": "markdown",
      "metadata": {
        "id": "I7aBp5OZsmy7"
      },
      "source": [
        "#### Save API Key to Environement Variable"
      ]
    },
    {
      "cell_type": "code",
      "execution_count": null,
      "metadata": {
        "id": "isN0JA6ksm__"
      },
      "outputs": [],
      "source": [
        "os.environ[\"OPENAI_API_KEY\"] = my_api_key"
      ]
    },
    {
      "cell_type": "markdown",
      "metadata": {
        "id": "c-lR8B_Us4FT"
      },
      "source": [
        "#### Pick the Youtube Video and Insert its URL"
      ]
    },
    {
      "cell_type": "code",
      "execution_count": null,
      "metadata": {
        "id": "Y1LSH25XnbVA"
      },
      "outputs": [],
      "source": [
        "video_url = \"https://www.youtube.com/watch?v=ySEx_Bqxvvo&ab_channel=AlexanderAmini\""
      ]
    },
    {
      "cell_type": "markdown",
      "metadata": {},
      "source": [
        "Setting up configurations for choice of embedding LLM and prompting LLM:"
      ]
    },
    {
      "cell_type": "code",
      "execution_count": null,
      "metadata": {},
      "outputs": [],
      "source": [
        "models_config = {\n",
        "    \"llm\": {\n",
        "        \"provider\": \"openai\",\n",
        "        \"config\": {\n",
        "            \"model\": \"gpt-3.5-turbo\",\n",
        "            \"temperature\": 0.5,\n",
        "            \"max_tokens\": 1000,\n",
        "            \"top_p\": 1,\n",
        "            \"stream\": False\n",
        "        }\n",
        "    },\n",
        "    \"embedder\": {\n",
        "        \"provider\": \"openai\",\n",
        "        \"config\": {\n",
        "            \"model\": \"text-embedding-ada-002\"\n",
        "        }\n",
        "    }\n",
        "}"
      ]
    },
    {
      "cell_type": "markdown",
      "metadata": {
        "id": "ceba85uTtghq"
      },
      "source": [
        "### Set Up the Retrieval Mechanism:"
      ]
    },
    {
      "cell_type": "code",
      "execution_count": null,
      "metadata": {
        "colab": {
          "base_uri": "https://localhost:8080/",
          "height": 71
        },
        "id": "w6CLvivFnbXt",
        "outputId": "705141fc-3340-446f-ab29-202bff3b9b4c"
      },
      "outputs": [],
      "source": [
        "lecture_RAG = App().from_config(config=models_config)\n",
        "lecture_RAG.reset()\n",
        "lecture_RAG.add(data_type=\"youtube_video\", source=video_url)\n",
        "\n"
      ]
    },
    {
      "cell_type": "markdown",
      "metadata": {
        "id": "IPPgyfmM0vNJ"
      },
      "source": [
        "### Some Questions About the Content of the Video"
      ]
    },
    {
      "cell_type": "code",
      "execution_count": null,
      "metadata": {
        "colab": {
          "base_uri": "https://localhost:8080/"
        },
        "id": "3S4sLH1NnbaU",
        "outputId": "6a090559-4c4c-4bf0-c57c-b8a69930eefc"
      },
      "outputs": [],
      "source": [
        "print(lecture_RAG.query(\"Do they mention transformers? In what way? Tell me in 2-3 sentences.\"))"
      ]
    },
    {
      "cell_type": "code",
      "execution_count": null,
      "metadata": {
        "colab": {
          "base_uri": "https://localhost:8080/"
        },
        "id": "TYMW2pItnbcj",
        "outputId": "871cbdd9-dd4b-41f9-afdf-3a7be9305db6"
      },
      "outputs": [],
      "source": [
        "print(lecture_RAG.query(\"Do they mention attention?\"))"
      ]
    },
    {
      "cell_type": "code",
      "execution_count": null,
      "metadata": {
        "colab": {
          "base_uri": "https://localhost:8080/"
        },
        "id": "VlXi96igrCPQ",
        "outputId": "37792171-9307-4fe3-b200-d68db466e846"
      },
      "outputs": [],
      "source": [
        "backprop_answer_english = lecture_RAG.query(\"Do they mention back propogation? Please provide 2-3 sentences that tell about it.\")\n",
        "print(backprop_answer_english)"
      ]
    },
    {
      "cell_type": "markdown",
      "metadata": {
        "id": "fp3fEJZY068L"
      },
      "source": [
        "#### Translate the Last Response to Hindi"
      ]
    },
    {
      "cell_type": "code",
      "execution_count": null,
      "metadata": {
        "colab": {
          "base_uri": "https://localhost:8080/"
        },
        "id": "HbIIaWdhvLrY",
        "outputId": "d2ad6d67-1035-44b5-ccc1-47dff92c9773"
      },
      "outputs": [],
      "source": [
        "print(lecture_RAG.query(f\"Please translate this answer from English to Hindi: <{backprop_answer_english}>. Make sure to translate properly with the appropriate technical terms.\"))"
      ]
    },
    {
      "cell_type": "markdown",
      "metadata": {
        "id": "Op6rTcF90_Kr"
      },
      "source": [
        "#### Translate the Last Response to Tamil"
      ]
    },
    {
      "cell_type": "code",
      "execution_count": null,
      "metadata": {
        "colab": {
          "base_uri": "https://localhost:8080/"
        },
        "id": "ZT5pWfLxysfa",
        "outputId": "b10c7d27-1f6a-4ad8-f5c0-9a8a40ffd7b7"
      },
      "outputs": [],
      "source": [
        "print(lecture_RAG.query(f\"Please translate this answer from English to Tamil: <{backprop_answer_english}>. Make sure to translate properly with the appropriate technical terms.\"))"
      ]
    },
    {
      "cell_type": "markdown",
      "metadata": {
        "id": "RwT9UolkuIoh"
      },
      "source": [
        "### The Video's Text that the LLM Can Use to Answer:"
      ]
    },
    {
      "cell_type": "code",
      "execution_count": null,
      "metadata": {
        "colab": {
          "base_uri": "https://localhost:8080/"
        },
        "id": "AtMeRgodr56r",
        "outputId": "b6a98398-fb88-4b00-817c-04d1874c01a4"
      },
      "outputs": [],
      "source": [
        "lecture_RAG.db.get()['documents']"
      ]
    },
    {
      "cell_type": "code",
      "execution_count": null,
      "metadata": {
        "id": "jos5GDYFr77r"
      },
      "outputs": [],
      "source": []
    }
  ],
  "metadata": {
    "colab": {
      "provenance": []
    },
    "kernelspec": {
      "display_name": "py39",
      "language": "python",
      "name": "python3"
    },
    "language_info": {
      "name": "python",
      "version": "3.9.18"
    }
  },
  "nbformat": 4,
  "nbformat_minor": 0
}
