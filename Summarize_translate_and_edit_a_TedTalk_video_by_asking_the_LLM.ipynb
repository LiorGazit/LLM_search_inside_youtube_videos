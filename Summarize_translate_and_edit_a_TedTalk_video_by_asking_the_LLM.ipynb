{
  "cells": [
    {
      "cell_type": "markdown",
      "source": [
        "# Summarize, translate, and edit a Ted Talk from Youtube video by asking the LLM\n",
        "By [Lior Gazit](https://www.linkedin.com/in/liorgazit/)  \n",
        "\n",
        "<a target=\"_blank\" href=\"https://colab.research.google.com/github/LiorGazit/LLM_search_inside_youtube_videos/blob/main/Summarize_translate_and_edit_a_TedTalk_video_by_asking_the_LLM.ipynb\">\n",
        "  <img src=\"https://colab.research.google.com/assets/colab-badge.svg\" alt=\"Open In Colab\"/>\n",
        "</a>\n",
        "\n",
        "**Description of the notebook:**  \n",
        "Pick a Youtube video that you'd like to summarize and edit to your liking without having to spend the time to watch all of it.\n",
        "In this notebook I picked one of the popular Ted Talks, summarized it, translated it to Russian, and edited it some more.  \n",
        "\n",
        "**Requirements:**  \n",
        "* Open this notebook in a free [Google Colab instance](https://colab.research.google.com/).  \n",
        "* This code picks OpenAI's API as a choice of LLM, so a paid **API key** is necessary.   "
      ],
      "metadata": {
        "id": "dA3qEn5YlzJc"
      }
    },
    {
      "cell_type": "markdown",
      "metadata": {
        "id": "-VQE9nGwDaiG"
      },
      "source": [
        "Install:"
      ]
    },
    {
      "cell_type": "code",
      "execution_count": null,
      "metadata": {
        "id": "qtqSnCgwDDCg"
      },
      "outputs": [],
      "source": [
        "!pip -q install --upgrade embedchain\n",
        "!pip -q install pytube\n",
        "!pip -q install openai==0.28.1"
      ]
    },
    {
      "cell_type": "markdown",
      "metadata": {
        "id": "DrrlU4QqDmxl"
      },
      "source": [
        "Imports:"
      ]
    },
    {
      "cell_type": "code",
      "execution_count": 3,
      "metadata": {
        "id": "ohPMkz4zDqxz"
      },
      "outputs": [],
      "source": [
        "import os\n",
        "import textwrap\n",
        "import pandas as pd\n",
        "import json\n",
        "\n",
        "from embedchain import App\n",
        "from embedchain.config import ChromaDbConfig\n"
      ]
    },
    {
      "cell_type": "markdown",
      "metadata": {
        "id": "JAO_SzlyDr5x"
      },
      "source": [
        "#### Insert API Key"
      ]
    },
    {
      "cell_type": "code",
      "execution_count": 4,
      "metadata": {
        "id": "nyRo07nqD08l"
      },
      "outputs": [],
      "source": [
        "my_api_key ="
      ]
    },
    {
      "cell_type": "markdown",
      "source": [
        "#### Save API Key to Environement Variable"
      ],
      "metadata": {
        "id": "I7aBp5OZsmy7"
      }
    },
    {
      "cell_type": "code",
      "source": [
        "os.environ[\"OPENAI_API_KEY\"] = my_api_key"
      ],
      "metadata": {
        "id": "isN0JA6ksm__"
      },
      "execution_count": 5,
      "outputs": []
    },
    {
      "cell_type": "markdown",
      "source": [
        "#### Pick the Youtube Video and Insert its URL"
      ],
      "metadata": {
        "id": "c-lR8B_Us4FT"
      }
    },
    {
      "cell_type": "code",
      "source": [
        "video_url = \"https://www.youtube.com/watch?v=8KkKuTCFvzI&ab_channel=TED\""
      ],
      "metadata": {
        "id": "Y1LSH25XnbVA"
      },
      "execution_count": 6,
      "outputs": []
    },
    {
      "cell_type": "markdown",
      "source": [
        "### Set Up the Retrieval Mechanism:"
      ],
      "metadata": {
        "id": "ceba85uTtghq"
      }
    },
    {
      "cell_type": "code",
      "source": [
        "lecture_RAG = App(db_config=ChromaDbConfig(allow_reset=True))\n",
        "lecture_RAG.reset()\n",
        "lecture_RAG.add(data_type=\"youtube_video\", source=video_url)\n",
        "\n"
      ],
      "metadata": {
        "colab": {
          "base_uri": "https://localhost:8080/",
          "height": 71
        },
        "id": "w6CLvivFnbXt",
        "outputId": "5a8b79a7-586d-4a3c-bee3-b1575fe3ea71"
      },
      "execution_count": 7,
      "outputs": [
        {
          "output_type": "stream",
          "name": "stdout",
          "text": [
            "Inserting batches from 0 to 5 in chromadb\n",
            "Successfully saved https://www.youtube.com/watch?v=8KkKuTCFvzI&ab_channel=TED (DataType.YOUTUBE_VIDEO). New chunks count: 5\n"
          ]
        },
        {
          "output_type": "execute_result",
          "data": {
            "text/plain": [
              "'6d9ce5a14285fef40a8afb5268a273ef'"
            ],
            "application/vnd.google.colaboratory.intrinsic+json": {
              "type": "string"
            }
          },
          "metadata": {},
          "execution_count": 7
        }
      ]
    },
    {
      "cell_type": "code",
      "source": [
        "original_answer = lecture_RAG.query(\"Please review the entire content, summarize it to the length of 4 sentence, then translate it to Russian. Make sure the summary is consistent with the content.\")\n",
        "print(original_answer)"
      ],
      "metadata": {
        "colab": {
          "base_uri": "https://localhost:8080/"
        },
        "id": "3S4sLH1NnbaU",
        "outputId": "bea63bf9-216b-472d-8cce-d8628b762e55"
      },
      "execution_count": 8,
      "outputs": [
        {
          "output_type": "stream",
          "name": "stdout",
          "text": [
            "The content discusses the findings of a 75-year study on happiness and health. The main lesson learned is that good relationships are crucial for our well-being. Social connections and avoiding loneliness are important factors in leading a happier and healthier life. It is not just the quantity, but the quality of close relationships that matters. Living in conflict is detrimental to our health, while warm and supportive relationships have a protective effect. \n",
            "\n",
            "Russian Translation:\n",
            "Содержание обсуждает результаты 75-летнего исследования счастья и здоровья. Главный урок, вынесенный из него, заключается в том, что хорошие отношения являются ключевыми для нашего благополучия. Социальные связи и избегание одиночества являются важными факторами для ведения счастливой и здоровой жизни. Важна не только количество, но и качество близких отношений. Жизнь в конфликте негативно сказывается на нашем здоровье, в то время как теплые и поддерживающие отношения имеют защитный эффект.\n"
          ]
        }
      ]
    },
    {
      "cell_type": "code",
      "source": [
        "print(lecture_RAG.query(f\"This is the response from the previous prompt: <{original_answer}> Now take the Russian response and edit it into bullet points. Provide just the Russian bullet points.\"))"
      ],
      "metadata": {
        "colab": {
          "base_uri": "https://localhost:8080/"
        },
        "id": "TYMW2pItnbcj",
        "outputId": "c219047f-8f8e-4311-9a7f-487806c45a5f"
      },
      "execution_count": 14,
      "outputs": [
        {
          "output_type": "stream",
          "name": "stdout",
          "text": [
            "- Хорошие отношения являются ключевыми для нашего благополучия.\n",
            "- Социальные связи и избегание одиночества важны для счастливой и здоровой жизни.\n",
            "- Качество близких отношений имеет большое значение.\n",
            "- Жизнь в конфликте негативно влияет на здоровье.\n",
            "- Теплые и поддерживающие отношения имеют защитный эффект.\n"
          ]
        }
      ]
    }
  ],
  "metadata": {
    "colab": {
      "provenance": []
    },
    "kernelspec": {
      "display_name": "Python 3",
      "name": "python3"
    },
    "language_info": {
      "name": "python"
    }
  },
  "nbformat": 4,
  "nbformat_minor": 0
}