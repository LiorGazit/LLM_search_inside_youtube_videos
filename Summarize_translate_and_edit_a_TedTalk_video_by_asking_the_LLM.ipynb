{
  "cells": [
    {
      "cell_type": "markdown",
      "metadata": {
        "id": "dA3qEn5YlzJc"
      },
      "source": [
        "# Summarize, translate, and edit a Ted Talk from Youtube video by asking the LLM\n",
        "By [Lior Gazit](https://www.linkedin.com/in/liorgazit/)  \n",
        "\n",
        "<a target=\"_blank\" href=\"https://colab.research.google.com/github/LiorGazit/LLM_search_inside_youtube_videos/blob/main/Summarize_translate_and_edit_a_TedTalk_video_by_asking_the_LLM.ipynb\">\n",
        "  <img src=\"https://colab.research.google.com/assets/colab-badge.svg\" alt=\"Open In Colab\"/>\n",
        "</a>\n",
        "\n",
        "**Description of the notebook:**  \n",
        "Pick a Youtube video that you'd like to summarize and edit to your liking without having to spend the time to watch all of it.\n",
        "In this notebook I picked one of the popular Ted Talks, summarized it, translated it to Russian, and edited it some more.  \n",
        "\n",
        "**Requirements:**  \n",
        "* Open this notebook in a free [Google Colab instance](ttps://colab.research.google.com/github/LiorGazit/LLM_search_inside_youtube_videos/blob/main/Summarize_translate_and_edit_a_TedTalk_video_by_asking_the_LLM.ipynb).  \n",
        "* This code picks OpenAI's API as a choice of LLM, so a paid **API key** is necessary.   "
      ]
    },
    {
      "cell_type": "markdown",
      "metadata": {
        "id": "-VQE9nGwDaiG"
      },
      "source": [
        "Install:"
      ]
    },
    {
      "cell_type": "code",
      "execution_count": null,
      "metadata": {
        "id": "qtqSnCgwDDCg"
      },
      "outputs": [],
      "source": [
        "%pip -q install youtube-transcript-api\n",
        "%pip -q install openai\n",
        "%pip -q install numpy\n",
        "%pip -q install pytube\n",
        "%pip -q install faiss-cpu\n",
        "%pip -q install tiktoken\n",
        "%pip -q install textwrap"
      ]
    },
    {
      "cell_type": "markdown",
      "metadata": {
        "id": "DrrlU4QqDmxl"
      },
      "source": [
        "Imports:"
      ]
    },
    {
      "cell_type": "code",
      "execution_count": 1,
      "metadata": {
        "id": "ohPMkz4zDqxz"
      },
      "outputs": [],
      "source": [
        "import os\n",
        "from youtube_transcript_api import YouTubeTranscriptApi\n",
        "import faiss\n",
        "import numpy as np\n",
        "import openai\n",
        "import tiktoken\n",
        "from urllib.parse import urlparse, parse_qs"
      ]
    },
    {
      "cell_type": "markdown",
      "metadata": {
        "id": "JAO_SzlyDr5x"
      },
      "source": [
        "#### Insert API Key"
      ]
    },
    {
      "cell_type": "code",
      "execution_count": null,
      "metadata": {
        "id": "nyRo07nqD08l"
      },
      "outputs": [],
      "source": [
        "my_api_key = \"...\""
      ]
    },
    {
      "cell_type": "markdown",
      "metadata": {
        "id": "I7aBp5OZsmy7"
      },
      "source": [
        "#### Save API Key to Environement Variable"
      ]
    },
    {
      "cell_type": "code",
      "execution_count": 5,
      "metadata": {
        "id": "isN0JA6ksm__"
      },
      "outputs": [],
      "source": [
        "os.environ[\"OPENAI_API_KEY\"] = my_api_key"
      ]
    },
    {
      "cell_type": "markdown",
      "metadata": {
        "id": "c-lR8B_Us4FT"
      },
      "source": [
        "#### Pick the Youtube Video and Insert its URL"
      ]
    },
    {
      "cell_type": "code",
      "execution_count": 2,
      "metadata": {
        "id": "Y1LSH25XnbVA"
      },
      "outputs": [],
      "source": [
        "video_url = \"https://www.youtube.com/watch?v=q-7zAkwAOYg&ab_channel=TEDxTalks\""
      ]
    },
    {
      "cell_type": "markdown",
      "metadata": {},
      "source": [
        "#### Define functions:"
      ]
    },
    {
      "cell_type": "code",
      "execution_count": 6,
      "metadata": {},
      "outputs": [],
      "source": [
        "# Extract video ID from URL\n",
        "def extract_video_id(url):\n",
        "    query = urlparse(url).query\n",
        "    params = parse_qs(query)\n",
        "    return params['v'][0]\n",
        "\n",
        "# Fetch transcript using youtube-transcript-api\n",
        "def get_transcript(video_url):\n",
        "    video_id = extract_video_id(video_url)\n",
        "    transcript = YouTubeTranscriptApi.get_transcript(video_id, languages=['en'])\n",
        "    text = ' '.join([t['text'] for t in transcript])\n",
        "    return text\n",
        "\n",
        "# Split transcript into chunks\n",
        "def split_chunks(transcript, max_tokens=500):\n",
        "    encoding = tiktoken.get_encoding(\"cl100k_base\")\n",
        "    words = transcript.split()\n",
        "    chunks, current_chunk = [], []\n",
        "\n",
        "    for word in words:\n",
        "        current_chunk.append(word)\n",
        "        if len(encoding.encode(' '.join(current_chunk))) > max_tokens:\n",
        "            current_chunk.pop()\n",
        "            chunks.append(' '.join(current_chunk))\n",
        "            current_chunk = [word]\n",
        "    if current_chunk:\n",
        "        chunks.append(' '.join(current_chunk))\n",
        "    return chunks\n",
        "\n",
        "# Get embeddings using updated OpenAI embeddings model\n",
        "def get_embeddings(chunks, model=\"text-embedding-3-small\"):\n",
        "    embeddings = openai.embeddings.create(\n",
        "        input=chunks,\n",
        "        model=model\n",
        "    )\n",
        "    embeddings_list = [e.embedding for e in embeddings.data]\n",
        "    return np.array(embeddings_list, dtype='float32')\n",
        "\n",
        "# Build FAISS index\n",
        "def build_index(embeddings):\n",
        "    dim = embeddings.shape[1]\n",
        "    index = faiss.IndexFlatL2(dim)\n",
        "    index.add(embeddings)\n",
        "    return index\n",
        "\n",
        "# Similarity search\n",
        "def search_chunks(question, chunks, index, top_k=3):\n",
        "    query_embedding = openai.embeddings.create(\n",
        "        input=[question],\n",
        "        model=\"text-embedding-3-small\"\n",
        "    ).data[0].embedding\n",
        "    query_embedding = np.array([query_embedding], dtype='float32')\n",
        "\n",
        "    _, indices = index.search(query_embedding, top_k)\n",
        "    return [chunks[i] for i in indices[0]]\n",
        "\n",
        "# Query LLM with retrieved context using the latest GPT-4 model\n",
        "def query_llm(prompt, model=\"gpt-4-turbo\"):\n",
        "    completion = openai.chat.completions.create(\n",
        "        model=model,\n",
        "        messages=[\n",
        "            {\"role\": \"system\", \"content\": \"You answer questions based on video transcripts. Drop a new line after every sentence!\"},\n",
        "            {\"role\": \"user\", \"content\": prompt}\n",
        "        ],\n",
        "        temperature=0.5,\n",
        "        max_tokens=1000\n",
        "    )\n",
        "    return completion.choices[0].message.content.strip()"
      ]
    },
    {
      "cell_type": "code",
      "execution_count": 10,
      "metadata": {},
      "outputs": [
        {
          "data": {
            "text/plain": [
              "'You are ...'"
            ]
          },
          "execution_count": 10,
          "metadata": {},
          "output_type": "execute_result"
        }
      ],
      "source": [
        "query_llm(\"Complete the sentence in a correct syntactical manner: 'You is ...'\", model=\"gpt-4-turbo\")"
      ]
    },
    {
      "cell_type": "markdown",
      "metadata": {
        "id": "ceba85uTtghq"
      },
      "source": [
        "### ~~Set Up the Retrieval Mechanism:~~"
      ]
    },
    {
      "cell_type": "code",
      "execution_count": null,
      "metadata": {
        "colab": {
          "base_uri": "https://localhost:8080/",
          "height": 91
        },
        "id": "w6CLvivFnbXt",
        "outputId": "2f750065-18ca-485a-e648-4c2147212ab3"
      },
      "outputs": [
        {
          "name": "stderr",
          "output_type": "stream",
          "text": [
            "Inserting batches in chromadb: 100%|██████████| 1/1 [00:00<00:00,  1.12it/s]"
          ]
        },
        {
          "name": "stdout",
          "output_type": "stream",
          "text": [
            "Successfully saved https://www.youtube.com/watch?v=8KkKuTCFvzI&ab_channel=TED (DataType.YOUTUBE_VIDEO). New chunks count: 5\n"
          ]
        },
        {
          "name": "stderr",
          "output_type": "stream",
          "text": [
            "\n"
          ]
        },
        {
          "data": {
            "application/vnd.google.colaboratory.intrinsic+json": {
              "type": "string"
            },
            "text/plain": [
              "'6d9ce5a14285fef40a8afb5268a273ef'"
            ]
          },
          "execution_count": 6,
          "metadata": {},
          "output_type": "execute_result"
        }
      ],
      "source": [
        "# lecture_RAG = App(db_config=ChromaDbConfig(allow_reset=True))\n",
        "# lecture_RAG.reset()\n",
        "# lecture_RAG.add(data_type=\"youtube_video\", source=video_url)\n",
        "\n"
      ]
    },
    {
      "cell_type": "code",
      "execution_count": 10,
      "metadata": {
        "colab": {
          "base_uri": "https://localhost:8080/"
        },
        "id": "3S4sLH1NnbaU",
        "outputId": "0150d0b9-e057-4dff-e173-42c7f499001e"
      },
      "outputs": [
        {
          "name": "stdout",
          "output_type": "stream",
          "text": [
            "The speaker discusses the importance of\n",
            "relationships in leading a good life. They\n",
            "emphasize that relationships require hard work and\n",
            "are lifelong commitments. The happiest retirees\n",
            "were those who actively sought new relationships\n",
            "after leaving work. The speaker encourages\n",
            "listeners to prioritize relationships at any age,\n",
            "suggesting actions such as spending less time on\n",
            "screens and more time with people, trying new\n",
            "activities with loved ones, and reconciling with\n",
            "estranged family members. Mark Twain's quote\n",
            "reinforces the idea that life is too short for\n",
            "conflicts and that love and relationships are what\n",
            "truly matter.   \n",
            "\n",
            "Russian:\n",
            "Говорящий обсуждает важность\n",
            "отношений для ведения хорошей жизни. Он\n",
            "подчеркивает, что отношения требуют усилий и\n",
            "являются пожизненными обязательствами. Самые\n",
            "счастливые пенсионеры - это те, кто активно искал\n",
            "новые отношения после ухода с работы. Говорящий\n",
            "призывает слушателей приоритезировать отношения в\n",
            "любом возрасте, предлагая такие действия, как\n",
            "меньше времени на экранах и больше времени с\n",
            "людьми, попробовать новые активности с близкими, и\n",
            "восстановить отношения с отдаленными членами\n",
            "семьи. Цитата Марка Твена подчеркивает идею, что\n",
            "жизнь слишком коротка для конфликтов и что любовь\n",
            "и отношения - это то, что действительно важно.\n"
          ]
        }
      ],
      "source": [
        "original_answer = lecture_RAG.query(\"\"\"Please review the entire content, summarize it to the length of 4 sentence, then translate it to Russian.\n",
        "Make sure the summary is consistent with the content.\n",
        "Put the string '----' between the English part of the answer and the Russian part.\"\"\")\n",
        "print(textwrap.fill(original_answer, width=50, replace_whitespace=True).replace(\"\\\\n \", \"\\n\\n\").replace(\"---- \", \"\\n\\nRussian:\\n\"))"
      ]
    },
    {
      "cell_type": "code",
      "execution_count": 11,
      "metadata": {
        "colab": {
          "base_uri": "https://localhost:8080/"
        },
        "id": "TYMW2pItnbcj",
        "outputId": "4d67ac4c-1f7d-4777-b78e-5dd974b9b0c8"
      },
      "outputs": [
        {
          "name": "stdout",
          "output_type": "stream",
          "text": [
            "- Говорящий подчеркивает важность отношений для ведения хорошей жизни\n",
            "- Отношения требуют усилий и являются пожизненными обязательствами\n",
            "- Самые счастливые пенсионеры - это те, кто активно искал новые отношения после ухода с работы\n",
            "- Говорящий призывает слушателей приоритезировать отношения в любом возрасте\n",
            "- Предлагает действия, такие как меньше времени на экранах и больше времени с людьми, попробовать новые активности с близкими, и восстановить отношения с отдаленными членами семьи\n",
            "- Цитата Марка Твена подчеркивает идею, что жизнь слишком коротка для конфликтов и что любовь и отношения - это то, что действительно важно.\n"
          ]
        }
      ],
      "source": [
        "print(lecture_RAG.query(f\"This is the response from the previous prompt: <{original_answer}> Now take the Russian response and edit it into bullet points. Provide just the Russian bullet points.\"))"
      ]
    }
  ],
  "metadata": {
    "colab": {
      "provenance": []
    },
    "kernelspec": {
      "display_name": "Python 3",
      "language": "python",
      "name": "python3"
    },
    "language_info": {
      "codemirror_mode": {
        "name": "ipython",
        "version": 3
      },
      "file_extension": ".py",
      "mimetype": "text/x-python",
      "name": "python",
      "nbconvert_exporter": "python",
      "pygments_lexer": "ipython3",
      "version": "3.11.4"
    }
  },
  "nbformat": 4,
  "nbformat_minor": 0
}
