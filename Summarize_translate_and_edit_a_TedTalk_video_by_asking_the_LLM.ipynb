{
  "cells": [
    {
      "cell_type": "markdown",
      "metadata": {
        "id": "dA3qEn5YlzJc"
      },
      "source": [
        "# Summarize, translate, and edit a Ted Talk from Youtube video by asking the LLM\n",
        "By [Lior Gazit](https://www.linkedin.com/in/liorgazit/)  \n",
        "\n",
        "<a target=\"_blank\" href=\"https://colab.research.google.com/github/LiorGazit/LLM_search_inside_youtube_videos/blob/main/Summarize_translate_and_edit_a_TedTalk_video_by_asking_the_LLM.ipynb\">\n",
        "  <img src=\"https://colab.research.google.com/assets/colab-badge.svg\" alt=\"Open In Colab\"/>\n",
        "</a>\n",
        "\n",
        "**Description of the notebook:**  \n",
        "Pick a Youtube video that you'd like to summarize and edit to your liking without having to spend the time to watch all of it.\n",
        "In this notebook I picked one of the popular Ted Talks, summarized it, translated it to Russian, and edited it some more.  \n",
        "\n",
        "**Requirements:**  \n",
        "* Open this notebook in a free [Google Colab instance](ttps://colab.research.google.com/github/LiorGazit/LLM_search_inside_youtube_videos/blob/main/Summarize_translate_and_edit_a_TedTalk_video_by_asking_the_LLM.ipynb).  \n",
        "* This code picks OpenAI's API as a choice of LLM, so a paid **API key** is necessary.   "
      ]
    },
    {
      "cell_type": "markdown",
      "metadata": {
        "id": "-VQE9nGwDaiG"
      },
      "source": [
        "Install:"
      ]
    },
    {
      "cell_type": "code",
      "execution_count": null,
      "metadata": {
        "id": "qtqSnCgwDDCg"
      },
      "outputs": [],
      "source": [
        "%pip -q install youtube-transcript-api\n",
        "%pip -q install openai\n",
        "%pip -q install numpy\n",
        "%pip -q install pytube\n",
        "%pip -q install faiss-cpu\n",
        "%pip -q install tiktoken\n",
        "%pip -q install textwrap"
      ]
    },
    {
      "cell_type": "markdown",
      "metadata": {
        "id": "DrrlU4QqDmxl"
      },
      "source": [
        "Imports:"
      ]
    },
    {
      "cell_type": "code",
      "execution_count": 1,
      "metadata": {
        "id": "ohPMkz4zDqxz"
      },
      "outputs": [],
      "source": [
        "import os\n",
        "from youtube_transcript_api import YouTubeTranscriptApi\n",
        "import faiss\n",
        "import numpy as np\n",
        "import openai\n",
        "import tiktoken\n",
        "from urllib.parse import urlparse, parse_qs"
      ]
    },
    {
      "cell_type": "markdown",
      "metadata": {
        "id": "JAO_SzlyDr5x"
      },
      "source": [
        "#### Insert API Key"
      ]
    },
    {
      "cell_type": "code",
      "execution_count": null,
      "metadata": {
        "id": "nyRo07nqD08l"
      },
      "outputs": [],
      "source": [
        "my_api_key = \"...\""
      ]
    },
    {
      "cell_type": "markdown",
      "metadata": {
        "id": "I7aBp5OZsmy7"
      },
      "source": [
        "#### Save API Key to Environement Variable"
      ]
    },
    {
      "cell_type": "code",
      "execution_count": 4,
      "metadata": {
        "id": "isN0JA6ksm__"
      },
      "outputs": [],
      "source": [
        "os.environ[\"OPENAI_API_KEY\"] = my_api_key"
      ]
    },
    {
      "cell_type": "markdown",
      "metadata": {
        "id": "c-lR8B_Us4FT"
      },
      "source": [
        "#### Pick the Youtube Video and Insert its URL"
      ]
    },
    {
      "cell_type": "code",
      "execution_count": 2,
      "metadata": {
        "id": "Y1LSH25XnbVA"
      },
      "outputs": [],
      "source": [
        "video_url = \"https://www.youtube.com/watch?v=q-7zAkwAOYg&ab_channel=TEDxTalks\""
      ]
    },
    {
      "cell_type": "markdown",
      "metadata": {},
      "source": [
        "#### Define functions:"
      ]
    },
    {
      "cell_type": "code",
      "execution_count": 3,
      "metadata": {},
      "outputs": [
        {
          "name": "stdout",
          "output_type": "stream",
          "text": [
            "Translator: Joseph Geni\n",
            "Reviewer: Ivana Korom What keeps us healthy and happy as we go through life? If you were going to invest now in your future best self, where would you put your time\n",
            "and your energy? There are lots of answers out there. We're bombarded with images\n",
            "of what's most important in life. The media are filled with stories\n",
            "of people who are rich and famous and building empires at work. And we believe those stories. There was a recent survey of millennials asking them what their\n",
            "most important life goals were, and over 80 percent said that a major life goal for them\n",
            "was to get rich. And another 50 percent\n",
            "of those same young adults said that another major life goal was to become famous. (Laughter) And we're constantly told\n",
            "to lean in to work, to push harder and achieve more. We're given the impression that these\n",
            "are the things that we need to go after in order to have a good life. But is that true? Is that really what keeps people happy\n",
            "as they go through life? Pictures of entire lives, of the choices that people make\n",
            "and how those choices work out for them, those pictures\n",
            "are almost impossible to get. Most of what we know about human life we know from asking people\n",
            "to remember the past, and as we know, hindsight\n",
            "is anything but 20/20. We forget vast amounts\n",
            "of what happens to us in life, and sometimes memory\n",
            "is downright creative. Mark Twain understood this. He's quoted as saying, \"Some of the worst things in my life\n",
            "never happened.\" (Laughter) And research shows us that we actually\n",
            "remember the past more positively as we get older. I'm reminded of a bumper sticker\n",
            "that says, \"It's never too late\n",
            "to have a happy childhood.\" (Laughter) But what if we could watch entire lives as they unfold through time? What if we could study people\n",
            "from the time that they were teenagers all the way into old age to see what really keeps people\n",
            "happy and healthy? We did that. The Harvard Study of Adult Development may be the longest study\n",
            "of adult life that's ever been done. For 75 years, we've tracked\n",
            "the lives of 724 men, year after year, asking about their work,\n",
            "their home lives, their health, and of course asking all along the way\n",
            "without knowing how their life stories were going to turn out. Studies like this are exceedingly rare. Almost all projects of this kind\n",
            "fall apart within a decade because too many people\n",
            "drop out of the study, or funding for the research dries up, or the researchers get distracted, or they die, and nobody moves the ball\n",
            "further down the field. But through a combination of luck and the persistence\n",
            "of several generations of researchers, this study has survived. About 60 of our original 724 men are still alive, still participating in the study, most of them in their 90s. And we are now beginning to study the more than 2,000 children of these men. And I'm the fourth director of the study. Since 1938, we've tracked the lives\n",
            "of two groups of men. The first group started in the study when they were sophomores\n",
            "at Harvard College. The were from what Tom Brokaw has called\n",
            "\"the greatest generation\". They all finished college\n",
            "during World War II, and then most went off\n",
            "to serve in the war. And the second group that we've followed was a group of boys\n",
            "from Boston's poorest neighborhoods, boys who were chosen for the study specifically because they were\n",
            "from some of the most troubled and disadvantaged families in the Boston of the 1930s. Most lived in tenements,\n",
            "many without hot and cold running water. When they entered the study, all of these teenagers were interviewed. They were given medical exams. We went to their homes\n",
            "and we interviewed their parents. And then these teenagers\n",
            "grew up into adults who entered all walks of life. They became factory workers and lawyers\n",
            "and bricklayers and doctors, one President of the United States. Some developed alcoholism.\n",
            "A few developed schizophrenia. Some climbed the social ladder from the bottom\n",
            "all the way to the very top, and some made that journey\n",
            "in the opposite direction. The founders of this study would never in their wildest dreams have imagined that I would be\n",
            "standing here today, 75 years later, telling you that\n",
            "the study still continues. Every two years, our patient\n",
            "and dedicated research staff calls up our men\n",
            "and asks them if we can send them yet one more set of questions\n",
            "about their lives. Many of the inner city Boston men ask us, \"Why do you keep wanting to study me?\n",
            "My life just isn't that interesting.\" The Harvard men never ask that question. (Laughter) To get the clearest picture\n",
            "of these lives, we don't just send them questionnaires. We interview them in their living rooms. We get their medical records\n",
            "from their doctors. We draw their blood, we scan their brains, we talk to their children. We videotape them talking with their wives\n",
            "about their deepest concerns. And when, about a decade ago,\n",
            "we finally asked the wives if they would join us\n",
            "as members of the study, many of the women said,\n",
            "\"You know, it's about time.\" (Laughter) So what have we learned? What are the lessons that come\n",
            "from the tens of thousands of pages of information that we've generated on these lives? Well, the lessons aren't about wealth\n",
            "or fame or working harder and harder. The clearest message that we get\n",
            "from this 75-year study is this: Good relationships keep us\n",
            "happier and healthier. Period. We've learned three big lessons\n",
            "about relationships. The first is that social connections\n",
            "are really good for us, and that loneliness kills. It turns out that people\n",
            "who are more socially connected to family, to friends, to community, are happier, they're physically healthier,\n",
            "and they live longer than people who are less well connected. And the experience of loneliness\n",
            "turns out to be toxic. People who are more isolated\n",
            "than they want to be from others find that they are less happy, their health declines earlier in midlife, their brain functioning declines sooner and they live shorter lives\n",
            "than people who are not lonely. And the sad fact\n",
            "is that at any given time, more than one in five Americans\n",
            "will report that they're lonely. And we know that you\n",
            "can be lonely in a crowd and you can be lonely in a marriage, so the second big lesson that we learned is that it's not just\n",
            "the number of friends you have, and it's not whether or not\n",
            "you're in a committed relationship, but it's the quality\n",
            "of your close relationships that matters. It turns out that living in the midst\n",
            "of conflict is really bad for our health. High-conflict marriages, for example,\n",
            "without much affection, turn out to be very bad for our health,\n",
            "perhaps worse than getting divorced. And living in the midst of good,\n",
            "warm relationships is protective. Once we had followed our men\n",
            "all the way into their 80s, we wanted to look back at them at midlife and to see if we could predict who was going to grow\n",
            "into a happy, healthy octogenarian and who wasn't. And when we gathered together\n",
            "everything we knew about them at age 50, it wasn't their middle age\n",
            "cholesterol levels that predicted how they\n",
            "were going to grow old. It was how satisfied they were\n",
            "in their relationships. The people who were the most satisfied\n",
            "in their relationships at age 50 were the healthiest at age 80. And good, close relationships\n",
            "seem to buffer us from some of the slings and arrows\n",
            "of getting old. Our most happily partnered men and women reported, in their 80s, that on the days\n",
            "when they had more physical pain, their mood stayed just as happy. But the people who were\n",
            "in unhappy relationships, on the days when they\n",
            "reported more physical pain, it was magnified by more emotional pain. And the third big lesson that we learned\n",
            "about relationships and our health is that good relationships\n",
            "don't just protect our bodies, they protect our brains. It turns out that being\n",
            "in a securely attached relationship to another person in your 80s\n",
            "is protective, that the people who are in relationships where they really feel they can count\n",
            "on the other person in times of need, those people's memories\n",
            "stay sharper longer. And the people in relationships where they feel they really\n",
            "can't count on the other one, those are the people who experience\n",
            "earlier memory decline. And those good relationships,\n",
            "they don't have to be smooth all the time. Some of our octogenarian couples\n",
            "could bicker with each other day in and day out, but as long as they felt that they\n",
            "could really count on the other when the going got tough, those arguments didn't take a toll\n",
            "on their memories. So this message, that good, close relationships\n",
            "are good for our health and well-being, this is wisdom that's as old as the hills. It's your grandmother's advice,\n",
            "and your pastor's. Why is this so hard to get? For example, with respect to wealth, we know that once your basic \n",
            "material needs are met, wealth doesn't do it. If you go from making \n",
            "75,000 dollars a year to 75 million, we know that your health and happiness\n",
            "will change very little, if at all. When it comes to fame, the constant media intrusion and the lack of privacy make most famous people \n",
            "significantly less healthy. It certainly doesn't keep them happier. And as for working harder and harder, there is that truism\n",
            "that nobody on their death bed ever wished they had spent \n",
            "more time at the office. (Laughter) Why is this so hard to get\n",
            "and so easy to ignore? Well, we're human. What we'd really like is a quick fix, something we can get that'll make our lives good\n",
            "and keep them that way. Relationships are messy\n",
            "and they're complicated and the hard work of tending\n",
            "to family and friends, it's not sexy or glamorous. It's also lifelong. It never ends. The people in our 75-year study\n",
            "who were the happiest in retirement were the people who had actively worked\n",
            "to replace workmates with new playmates. Just like the millennials\n",
            "in that recent survey, many of our men when they\n",
            "were starting out as young adults really believed that fame and wealth\n",
            "and high achievement were what they needed to go after\n",
            "to have a good life. But over and over, over these 75 years,\n",
            "our study has shown that the people who fared the best were\n",
            "the people who leaned in to relationships, with family, with friends, with community. So what about you? Let's say you're 25,\n",
            "or you're 40, or you're 60. What might leaning in\n",
            "to relationships even look like? Well, the possibilities\n",
            "are practically endless. It might be something as simple\n",
            "as replacing screen time with people time or livening up a stale relationship\n",
            "by doing something new together, long walks or date nights, or reaching out to that family member\n",
            "who you haven't spoken to in years, because those all-too-common family feuds take a terrible toll on the people who hold the grudges. I'd like to close with another quote\n",
            "from Mark Twain. More than a century ago, he was looking back on his life, and he wrote this: \"There isn't time, so brief is life, for bickerings, apologies,\n",
            "heartburnings, callings to account. There is only time for loving, and but an instant,\n",
            "so to speak, for that.\" The good life is built\n",
            "with good relationships. And that's an idea worth spreading. Thank you. (Applause)\n"
          ]
        }
      ],
      "source": [
        "# Extract video ID from URL\n",
        "def extract_video_id(url):\n",
        "    query = urlparse(url).query\n",
        "    params = parse_qs(query)\n",
        "    return params['v'][0]\n",
        "\n",
        "# Fetch transcript using youtube-transcript-api\n",
        "def get_transcript(video_url):\n",
        "    video_id = extract_video_id(video_url)\n",
        "    transcript = YouTubeTranscriptApi.get_transcript(video_id, languages=['en'])\n",
        "    text = ' '.join([t['text'] for t in transcript])\n",
        "    return text\n",
        "\n",
        "print(get_transcript(video_url))"
      ]
    },
    {
      "cell_type": "markdown",
      "metadata": {
        "id": "ceba85uTtghq"
      },
      "source": [
        "### ~~Set Up the Retrieval Mechanism:~~"
      ]
    },
    {
      "cell_type": "code",
      "execution_count": null,
      "metadata": {
        "colab": {
          "base_uri": "https://localhost:8080/",
          "height": 91
        },
        "id": "w6CLvivFnbXt",
        "outputId": "2f750065-18ca-485a-e648-4c2147212ab3"
      },
      "outputs": [
        {
          "name": "stderr",
          "output_type": "stream",
          "text": [
            "Inserting batches in chromadb: 100%|██████████| 1/1 [00:00<00:00,  1.12it/s]"
          ]
        },
        {
          "name": "stdout",
          "output_type": "stream",
          "text": [
            "Successfully saved https://www.youtube.com/watch?v=8KkKuTCFvzI&ab_channel=TED (DataType.YOUTUBE_VIDEO). New chunks count: 5\n"
          ]
        },
        {
          "name": "stderr",
          "output_type": "stream",
          "text": [
            "\n"
          ]
        },
        {
          "data": {
            "application/vnd.google.colaboratory.intrinsic+json": {
              "type": "string"
            },
            "text/plain": [
              "'6d9ce5a14285fef40a8afb5268a273ef'"
            ]
          },
          "execution_count": 6,
          "metadata": {},
          "output_type": "execute_result"
        }
      ],
      "source": [
        "# lecture_RAG = App(db_config=ChromaDbConfig(allow_reset=True))\n",
        "# lecture_RAG.reset()\n",
        "# lecture_RAG.add(data_type=\"youtube_video\", source=video_url)\n",
        "\n"
      ]
    },
    {
      "cell_type": "code",
      "execution_count": 10,
      "metadata": {
        "colab": {
          "base_uri": "https://localhost:8080/"
        },
        "id": "3S4sLH1NnbaU",
        "outputId": "0150d0b9-e057-4dff-e173-42c7f499001e"
      },
      "outputs": [
        {
          "name": "stdout",
          "output_type": "stream",
          "text": [
            "The speaker discusses the importance of\n",
            "relationships in leading a good life. They\n",
            "emphasize that relationships require hard work and\n",
            "are lifelong commitments. The happiest retirees\n",
            "were those who actively sought new relationships\n",
            "after leaving work. The speaker encourages\n",
            "listeners to prioritize relationships at any age,\n",
            "suggesting actions such as spending less time on\n",
            "screens and more time with people, trying new\n",
            "activities with loved ones, and reconciling with\n",
            "estranged family members. Mark Twain's quote\n",
            "reinforces the idea that life is too short for\n",
            "conflicts and that love and relationships are what\n",
            "truly matter.   \n",
            "\n",
            "Russian:\n",
            "Говорящий обсуждает важность\n",
            "отношений для ведения хорошей жизни. Он\n",
            "подчеркивает, что отношения требуют усилий и\n",
            "являются пожизненными обязательствами. Самые\n",
            "счастливые пенсионеры - это те, кто активно искал\n",
            "новые отношения после ухода с работы. Говорящий\n",
            "призывает слушателей приоритезировать отношения в\n",
            "любом возрасте, предлагая такие действия, как\n",
            "меньше времени на экранах и больше времени с\n",
            "людьми, попробовать новые активности с близкими, и\n",
            "восстановить отношения с отдаленными членами\n",
            "семьи. Цитата Марка Твена подчеркивает идею, что\n",
            "жизнь слишком коротка для конфликтов и что любовь\n",
            "и отношения - это то, что действительно важно.\n"
          ]
        }
      ],
      "source": [
        "original_answer = lecture_RAG.query(\"\"\"Please review the entire content, summarize it to the length of 4 sentence, then translate it to Russian.\n",
        "Make sure the summary is consistent with the content.\n",
        "Put the string '----' between the English part of the answer and the Russian part.\"\"\")\n",
        "print(textwrap.fill(original_answer, width=50, replace_whitespace=True).replace(\"\\\\n \", \"\\n\\n\").replace(\"---- \", \"\\n\\nRussian:\\n\"))"
      ]
    },
    {
      "cell_type": "code",
      "execution_count": 11,
      "metadata": {
        "colab": {
          "base_uri": "https://localhost:8080/"
        },
        "id": "TYMW2pItnbcj",
        "outputId": "4d67ac4c-1f7d-4777-b78e-5dd974b9b0c8"
      },
      "outputs": [
        {
          "name": "stdout",
          "output_type": "stream",
          "text": [
            "- Говорящий подчеркивает важность отношений для ведения хорошей жизни\n",
            "- Отношения требуют усилий и являются пожизненными обязательствами\n",
            "- Самые счастливые пенсионеры - это те, кто активно искал новые отношения после ухода с работы\n",
            "- Говорящий призывает слушателей приоритезировать отношения в любом возрасте\n",
            "- Предлагает действия, такие как меньше времени на экранах и больше времени с людьми, попробовать новые активности с близкими, и восстановить отношения с отдаленными членами семьи\n",
            "- Цитата Марка Твена подчеркивает идею, что жизнь слишком коротка для конфликтов и что любовь и отношения - это то, что действительно важно.\n"
          ]
        }
      ],
      "source": [
        "print(lecture_RAG.query(f\"This is the response from the previous prompt: <{original_answer}> Now take the Russian response and edit it into bullet points. Provide just the Russian bullet points.\"))"
      ]
    }
  ],
  "metadata": {
    "colab": {
      "provenance": []
    },
    "kernelspec": {
      "display_name": "Python 3",
      "language": "python",
      "name": "python3"
    },
    "language_info": {
      "codemirror_mode": {
        "name": "ipython",
        "version": 3
      },
      "file_extension": ".py",
      "mimetype": "text/x-python",
      "name": "python",
      "nbconvert_exporter": "python",
      "pygments_lexer": "ipython3",
      "version": "3.11.4"
    }
  },
  "nbformat": 4,
  "nbformat_minor": 0
}
