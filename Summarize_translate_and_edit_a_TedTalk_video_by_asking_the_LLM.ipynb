{
  "cells": [
    {
      "cell_type": "markdown",
      "source": [
        "# Summarize, translate, and edit a Ted Talk from Youtube video by asking the LLM\n",
        "By [Lior Gazit](https://www.linkedin.com/in/liorgazit/)  \n",
        "\n",
        "<a target=\"_blank\" href=\"https://colab.research.google.com/github/LiorGazit/LLM_search_inside_youtube_videos/blob/main/Summarize_translate_and_edit_a_TedTalk_video_by_asking_the_LLM.ipynb\">\n",
        "  <img src=\"https://colab.research.google.com/assets/colab-badge.svg\" alt=\"Open In Colab\"/>\n",
        "</a>\n",
        "\n",
        "**Description of the notebook:**  \n",
        "Pick a Youtube video that you'd like to summarize and edit to your liking without having to spend the time to watch all of it.\n",
        "In this notebook I picked one of the popular Ted Talks, summarized it, translated it to Russian, and edited it some more.  \n",
        "\n",
        "**Requirements:**  \n",
        "* Open this notebook in a free [Google Colab instance](https://colab.research.google.com/).  \n",
        "* This code picks OpenAI's API as a choice of LLM, so a paid **API key** is necessary.   "
      ],
      "metadata": {
        "id": "dA3qEn5YlzJc"
      }
    },
    {
      "cell_type": "markdown",
      "metadata": {
        "id": "-VQE9nGwDaiG"
      },
      "source": [
        "Install:"
      ]
    },
    {
      "cell_type": "code",
      "execution_count": null,
      "metadata": {
        "id": "qtqSnCgwDDCg"
      },
      "outputs": [],
      "source": [
        "!pip -q install --upgrade embedchain\n",
        "!pip -q install pytube\n",
        "!pip -q install openai==0.28.1\n",
        "!pip -q install youtube-transcript-api"
      ]
    },
    {
      "cell_type": "markdown",
      "metadata": {
        "id": "DrrlU4QqDmxl"
      },
      "source": [
        "Imports:"
      ]
    },
    {
      "cell_type": "code",
      "execution_count": 2,
      "metadata": {
        "id": "ohPMkz4zDqxz"
      },
      "outputs": [],
      "source": [
        "import os\n",
        "import textwrap\n",
        "import pandas as pd\n",
        "import json\n",
        "\n",
        "from embedchain import App\n",
        "from embedchain.config import ChromaDbConfig\n"
      ]
    },
    {
      "cell_type": "markdown",
      "metadata": {
        "id": "JAO_SzlyDr5x"
      },
      "source": [
        "#### Insert API Key"
      ]
    },
    {
      "cell_type": "code",
      "execution_count": 3,
      "metadata": {
        "id": "nyRo07nqD08l"
      },
      "outputs": [],
      "source": [
        "my_api_key ="
      ]
    },
    {
      "cell_type": "markdown",
      "source": [
        "#### Save API Key to Environement Variable"
      ],
      "metadata": {
        "id": "I7aBp5OZsmy7"
      }
    },
    {
      "cell_type": "code",
      "source": [
        "os.environ[\"OPENAI_API_KEY\"] = my_api_key"
      ],
      "metadata": {
        "id": "isN0JA6ksm__"
      },
      "execution_count": 4,
      "outputs": []
    },
    {
      "cell_type": "markdown",
      "source": [
        "#### Pick the Youtube Video and Insert its URL"
      ],
      "metadata": {
        "id": "c-lR8B_Us4FT"
      }
    },
    {
      "cell_type": "code",
      "source": [
        "video_url = \"https://www.youtube.com/watch?v=8KkKuTCFvzI&ab_channel=TED\""
      ],
      "metadata": {
        "id": "Y1LSH25XnbVA"
      },
      "execution_count": 5,
      "outputs": []
    },
    {
      "cell_type": "markdown",
      "source": [
        "### Set Up the Retrieval Mechanism:"
      ],
      "metadata": {
        "id": "ceba85uTtghq"
      }
    },
    {
      "cell_type": "code",
      "source": [
        "lecture_RAG = App(db_config=ChromaDbConfig(allow_reset=True))\n",
        "lecture_RAG.reset()\n",
        "lecture_RAG.add(data_type=\"youtube_video\", source=video_url)\n",
        "\n"
      ],
      "metadata": {
        "colab": {
          "base_uri": "https://localhost:8080/",
          "height": 91
        },
        "id": "w6CLvivFnbXt",
        "outputId": "2f750065-18ca-485a-e648-4c2147212ab3"
      },
      "execution_count": 6,
      "outputs": [
        {
          "output_type": "stream",
          "name": "stderr",
          "text": [
            "Inserting batches in chromadb: 100%|██████████| 1/1 [00:00<00:00,  1.12it/s]"
          ]
        },
        {
          "output_type": "stream",
          "name": "stdout",
          "text": [
            "Successfully saved https://www.youtube.com/watch?v=8KkKuTCFvzI&ab_channel=TED (DataType.YOUTUBE_VIDEO). New chunks count: 5\n"
          ]
        },
        {
          "output_type": "stream",
          "name": "stderr",
          "text": [
            "\n"
          ]
        },
        {
          "output_type": "execute_result",
          "data": {
            "text/plain": [
              "'6d9ce5a14285fef40a8afb5268a273ef'"
            ],
            "application/vnd.google.colaboratory.intrinsic+json": {
              "type": "string"
            }
          },
          "metadata": {},
          "execution_count": 6
        }
      ]
    },
    {
      "cell_type": "code",
      "source": [
        "original_answer = lecture_RAG.query(\"\"\"Please review the entire content, summarize it to the length of 4 sentence, then translate it to Russian.\n",
        "Make sure the summary is consistent with the content.\n",
        "Put the string '----' between the English part of the answer and the Russian part.\"\"\")\n",
        "print(textwrap.fill(original_answer, width=50, replace_whitespace=True).replace(\"\\\\n \", \"\\n\\n\").replace(\"---- \", \"\\n\\nRussian:\\n\"))"
      ],
      "metadata": {
        "id": "3S4sLH1NnbaU",
        "colab": {
          "base_uri": "https://localhost:8080/"
        },
        "outputId": "0150d0b9-e057-4dff-e173-42c7f499001e"
      },
      "execution_count": 10,
      "outputs": [
        {
          "output_type": "stream",
          "name": "stdout",
          "text": [
            "The speaker discusses the importance of\n",
            "relationships in leading a good life. They\n",
            "emphasize that relationships require hard work and\n",
            "are lifelong commitments. The happiest retirees\n",
            "were those who actively sought new relationships\n",
            "after leaving work. The speaker encourages\n",
            "listeners to prioritize relationships at any age,\n",
            "suggesting actions such as spending less time on\n",
            "screens and more time with people, trying new\n",
            "activities with loved ones, and reconciling with\n",
            "estranged family members. Mark Twain's quote\n",
            "reinforces the idea that life is too short for\n",
            "conflicts and that love and relationships are what\n",
            "truly matter.   \n",
            "\n",
            "Russian:\n",
            "Говорящий обсуждает важность\n",
            "отношений для ведения хорошей жизни. Он\n",
            "подчеркивает, что отношения требуют усилий и\n",
            "являются пожизненными обязательствами. Самые\n",
            "счастливые пенсионеры - это те, кто активно искал\n",
            "новые отношения после ухода с работы. Говорящий\n",
            "призывает слушателей приоритезировать отношения в\n",
            "любом возрасте, предлагая такие действия, как\n",
            "меньше времени на экранах и больше времени с\n",
            "людьми, попробовать новые активности с близкими, и\n",
            "восстановить отношения с отдаленными членами\n",
            "семьи. Цитата Марка Твена подчеркивает идею, что\n",
            "жизнь слишком коротка для конфликтов и что любовь\n",
            "и отношения - это то, что действительно важно.\n"
          ]
        }
      ]
    },
    {
      "cell_type": "code",
      "source": [
        "print(lecture_RAG.query(f\"This is the response from the previous prompt: <{original_answer}> Now take the Russian response and edit it into bullet points. Provide just the Russian bullet points.\"))"
      ],
      "metadata": {
        "id": "TYMW2pItnbcj",
        "colab": {
          "base_uri": "https://localhost:8080/"
        },
        "outputId": "4d67ac4c-1f7d-4777-b78e-5dd974b9b0c8"
      },
      "execution_count": 11,
      "outputs": [
        {
          "output_type": "stream",
          "name": "stdout",
          "text": [
            "- Говорящий подчеркивает важность отношений для ведения хорошей жизни\n",
            "- Отношения требуют усилий и являются пожизненными обязательствами\n",
            "- Самые счастливые пенсионеры - это те, кто активно искал новые отношения после ухода с работы\n",
            "- Говорящий призывает слушателей приоритезировать отношения в любом возрасте\n",
            "- Предлагает действия, такие как меньше времени на экранах и больше времени с людьми, попробовать новые активности с близкими, и восстановить отношения с отдаленными членами семьи\n",
            "- Цитата Марка Твена подчеркивает идею, что жизнь слишком коротка для конфликтов и что любовь и отношения - это то, что действительно важно.\n"
          ]
        }
      ]
    }
  ],
  "metadata": {
    "colab": {
      "provenance": []
    },
    "kernelspec": {
      "display_name": "Python 3",
      "name": "python3"
    },
    "language_info": {
      "name": "python"
    }
  },
  "nbformat": 4,
  "nbformat_minor": 0
}
